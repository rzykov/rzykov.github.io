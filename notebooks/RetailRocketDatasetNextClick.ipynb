{
 "cells": [
  {
   "cell_type": "markdown",
   "metadata": {},
   "source": [
    "# Simple recommenders in Scala for Retail Rocket dataset"
   ]
  },
  {
   "cell_type": "markdown",
   "metadata": {},
   "source": [
    "We've published our dataset for research purposes recently here: https://www.kaggle.com/retailrocket/ecommerce-dataset Views, downloads and upvotes are good but there hasn't published any kernels yet. So I decided to write some posts about using such type of data for creating simple recommender systems. Scala is heavily used in Retailrocket. This notebook is aimed to show how to create simple recommenders in Scala. I created a simple recommender to predict the next click on item. "
   ]
  },
  {
   "cell_type": "markdown",
   "metadata": {},
   "source": [
    "The first step: Let's define path to file with click data and case class for a convinient way of reading data. "
   ]
  },
  {
   "cell_type": "code",
   "execution_count": null,
   "metadata": {
    "collapsed": true
   },
   "outputs": [],
   "source": [
    "import scala.io.Source\n",
    "\n",
    "val eventsPath = \"./events.csv\"\n",
    "case class Event(timeStamp: Long, visitorId: Int, event: String, itemId: Int, orderId: Option[Int]) // to store Events"
   ]
  },
  {
   "cell_type": "markdown",
   "metadata": {},
   "source": [
    "It's time to read and parse data."
   ]
  },
  {
   "cell_type": "code",
   "execution_count": 2,
   "metadata": {},
   "outputs": [
    {
     "data": {
      "text/plain": [
       "\u001b[36mevents\u001b[39m: \u001b[32mSeq\u001b[39m[\u001b[32mEvent\u001b[39m] = \u001b[33mStream\u001b[39m(\n",
       "  \u001b[33mEvent\u001b[39m(\u001b[32m1433221332117L\u001b[39m, \u001b[32m257597\u001b[39m, \u001b[32m\"view\"\u001b[39m, \u001b[32m355908\u001b[39m, None),\n",
       "  \u001b[33mEvent\u001b[39m(\u001b[32m1433224214164L\u001b[39m, \u001b[32m992329\u001b[39m, \u001b[32m\"view\"\u001b[39m, \u001b[32m248676\u001b[39m, None),\n",
       "  \u001b[33mEvent\u001b[39m(\u001b[32m1433221999827L\u001b[39m, \u001b[32m111016\u001b[39m, \u001b[32m\"view\"\u001b[39m, \u001b[32m318965\u001b[39m, None),\n",
       "  \u001b[33mEvent\u001b[39m(\u001b[32m1433221955914L\u001b[39m, \u001b[32m483717\u001b[39m, \u001b[32m\"view\"\u001b[39m, \u001b[32m253185\u001b[39m, None),\n",
       "  \u001b[33mEvent\u001b[39m(\u001b[32m1433221337106L\u001b[39m, \u001b[32m951259\u001b[39m, \u001b[32m\"view\"\u001b[39m, \u001b[32m367447\u001b[39m, None),\n",
       "  \u001b[33mEvent\u001b[39m(\u001b[32m1433224086234L\u001b[39m, \u001b[32m972639\u001b[39m, \u001b[32m\"view\"\u001b[39m, \u001b[32m22556\u001b[39m, None),\n",
       "  \u001b[33mEvent\u001b[39m(\u001b[32m1433221923240L\u001b[39m, \u001b[32m810725\u001b[39m, \u001b[32m\"view\"\u001b[39m, \u001b[32m443030\u001b[39m, None),\n",
       "  \u001b[33mEvent\u001b[39m(\u001b[32m1433223291897L\u001b[39m, \u001b[32m794181\u001b[39m, \u001b[32m\"view\"\u001b[39m, \u001b[32m439202\u001b[39m, None),\n",
       "  \u001b[33mEvent\u001b[39m(\u001b[32m1433220899221L\u001b[39m, \u001b[32m824915\u001b[39m, \u001b[32m\"view\"\u001b[39m, \u001b[32m428805\u001b[39m, None),\n",
       "  \u001b[33mEvent\u001b[39m(\u001b[32m1433221204592L\u001b[39m, \u001b[32m339335\u001b[39m, \u001b[32m\"view\"\u001b[39m, \u001b[32m82389\u001b[39m, None),\n",
       "  \u001b[33mEvent\u001b[39m(\u001b[32m1433222162373L\u001b[39m, \u001b[32m176446\u001b[39m, \u001b[32m\"view\"\u001b[39m, \u001b[32m10572\u001b[39m, None),\n",
       "\u001b[33m...\u001b[39m"
      ]
     },
     "execution_count": 2,
     "metadata": {},
     "output_type": "execute_result"
    }
   ],
   "source": [
    "val events = Source.fromFile(eventsPath)\n",
    "    .getLines\n",
    "    .toSeq\n",
    "    .tail // skip first line with columns' names\n",
    "    .map(_.split(\",\", -1)) \n",
    "    .map{ case Array(timeStamp, visitorId, event, itemId, orderId) => \n",
    "        Event(timeStamp.toLong, visitorId.toInt, event, itemId.toInt, if(orderId == \"\") None else Some(orderId.toInt))}\n"
   ]
  },
  {
   "cell_type": "markdown",
   "metadata": {},
   "source": [
    "A visitor's interest may vary over time. Let's break all log data into sessions for all users."
   ]
  },
  {
   "cell_type": "code",
   "execution_count": 48,
   "metadata": {},
   "outputs": [
    {
     "data": {
      "text/plain": [
       "defined \u001b[32mfunction\u001b[39m \u001b[36msessionize\u001b[39m\n",
       "\u001b[36msessionizedEvents\u001b[39m: \u001b[32mSeq\u001b[39m[(\u001b[32mInt\u001b[39m, \u001b[32mSeq\u001b[39m[\u001b[32mSeq\u001b[39m[\u001b[32mEvent\u001b[39m]])] = \u001b[33mArrayBuffer\u001b[39m(\n",
       "  (\n",
       "    \u001b[32m1253013\u001b[39m,\n",
       "    \u001b[33mList\u001b[39m(\n",
       "      \u001b[33mStream\u001b[39m(\n",
       "        \u001b[33mEvent\u001b[39m(\u001b[32m1437856704939L\u001b[39m, \u001b[32m1253013\u001b[39m, \u001b[32m\"view\"\u001b[39m, \u001b[32m214357\u001b[39m, None),\n",
       "        \u001b[33mEvent\u001b[39m(\u001b[32m1437856765656L\u001b[39m, \u001b[32m1253013\u001b[39m, \u001b[32m\"view\"\u001b[39m, \u001b[32m203772\u001b[39m, None),\n",
       "        \u001b[33mEvent\u001b[39m(\u001b[32m1437857105399L\u001b[39m, \u001b[32m1253013\u001b[39m, \u001b[32m\"view\"\u001b[39m, \u001b[32m262407\u001b[39m, None)\n",
       "      ),\n",
       "      \u001b[33mStream\u001b[39m(\n",
       "        \u001b[33mEvent\u001b[39m(\u001b[32m1437857105399L\u001b[39m, \u001b[32m1253013\u001b[39m, \u001b[32m\"view\"\u001b[39m, \u001b[32m262407\u001b[39m, None),\n",
       "        \u001b[33mEvent\u001b[39m(\u001b[32m1437857205669L\u001b[39m, \u001b[32m1253013\u001b[39m, \u001b[32m\"view\"\u001b[39m, \u001b[32m214357\u001b[39m, None),\n",
       "\u001b[33m...\u001b[39m"
      ]
     },
     "execution_count": 48,
     "metadata": {},
     "output_type": "execute_result"
    }
   ],
   "source": [
    "def sessionize(events: Seq[Event], delay: Long, sessionMaxSize: Int = 1000): Seq[(Int, Seq[Seq[Event]])] = \n",
    "    events.groupBy(_.visitorId) \n",
    "    // delete  visitors with single clicks \n",
    "    .filter{ case(visitorId, visitorEvents) => visitorEvents.size > 1 && visitorEvents.size < sessionMaxSize}\n",
    "    .flatMap{ case (visitorId, visitorEvents) => \n",
    "        val sessions: Option[Seq[Seq[Event]]] = visitorEvents\n",
    "        .sortBy(_.timeStamp)\n",
    "        .sliding(2) //make pairs of sorted clicks\n",
    "        .filterNot{ case Seq(a,b) => a.event == b.event && a.itemId == b.itemId}\n",
    "        .filter{ case Seq(a,b) => b.timeStamp - a.timeStamp < delay} // delay - is maximum amount of inactivity between clicks \n",
    "        .map(Seq(_))\n",
    "        .reduceOption{ (left, right) => // merge adjacent clicks into sessions\n",
    "            if (left.last(1) == right.head(0)) left.init :+ (left.last :+ right.head(1))\n",
    "            else left :+ right.head }\n",
    "        .filter(_.size < sessionMaxSize) //filter extreme session with high number of clicks\n",
    "       sessions.map{ s => (visitorId, s) }} // generate sessions for each visitorId\n",
    "    .toSeq\n",
    "\n",
    "val sessionizedEvents = sessionize(events, 2 * 3600 * 1000) // our delay of inactivity is 2 hours "
   ]
  },
  {
   "cell_type": "markdown",
   "metadata": {},
   "source": [
    "Before splitting sessions into train and test, we will examine some statistics about last digit of visitorIds."
   ]
  },
  {
   "cell_type": "code",
   "execution_count": 49,
   "metadata": {},
   "outputs": [
    {
     "data": {
      "text/plain": [
       "\u001b[36mres48\u001b[39m: \u001b[32mMap\u001b[39m[\u001b[32mInt\u001b[39m, \u001b[32mInt\u001b[39m] = \u001b[33mMap\u001b[39m(\n",
       "  \u001b[32m0\u001b[39m -> \u001b[32m24052\u001b[39m,\n",
       "  \u001b[32m5\u001b[39m -> \u001b[32m23961\u001b[39m,\n",
       "  \u001b[32m1\u001b[39m -> \u001b[32m24017\u001b[39m,\n",
       "  \u001b[32m6\u001b[39m -> \u001b[32m24126\u001b[39m,\n",
       "  \u001b[32m9\u001b[39m -> \u001b[32m24188\u001b[39m,\n",
       "  \u001b[32m2\u001b[39m -> \u001b[32m24324\u001b[39m,\n",
       "  \u001b[32m7\u001b[39m -> \u001b[32m23913\u001b[39m,\n",
       "  \u001b[32m3\u001b[39m -> \u001b[32m24296\u001b[39m,\n",
       "  \u001b[32m8\u001b[39m -> \u001b[32m24548\u001b[39m,\n",
       "  \u001b[32m4\u001b[39m -> \u001b[32m23897\u001b[39m\n",
       ")"
      ]
     },
     "execution_count": 49,
     "metadata": {},
     "output_type": "execute_result"
    }
   ],
   "source": [
    "sessionizedEvents.map(_._1 % 10)\n",
    " .groupBy(x => x)\n",
    " .map{ case(key, values) => (key, values.size)  }"
   ]
  },
  {
   "cell_type": "markdown",
   "metadata": {},
   "source": [
    "As you can see, this digit is evenly distributed. We will use this information to split sessions into train/test datasets. "
   ]
  },
  {
   "cell_type": "code",
   "execution_count": 51,
   "metadata": {
    "collapsed": true
   },
   "outputs": [
    {
     "name": "stdout",
     "output_type": "stream",
     "text": [
      "489163\n"
     ]
    },
    {
     "data": {
      "text/plain": [
       "defined \u001b[32mfunction\u001b[39m \u001b[36msplitDataSet\u001b[39m\n",
       "\u001b[36mtrain\u001b[39m: \u001b[32mSeq\u001b[39m[(\u001b[32mInt\u001b[39m, \u001b[32mSeq\u001b[39m[\u001b[32mSeq\u001b[39m[\u001b[32mEvent\u001b[39m]])] = \u001b[33mArrayBuffer\u001b[39m(\n",
       "  (\n",
       "    \u001b[32m1253013\u001b[39m,\n",
       "    \u001b[33mList\u001b[39m(\n",
       "      \u001b[33mStream\u001b[39m(\n",
       "        \u001b[33mEvent\u001b[39m(\u001b[32m1437856704939L\u001b[39m, \u001b[32m1253013\u001b[39m, \u001b[32m\"view\"\u001b[39m, \u001b[32m214357\u001b[39m, None),\n",
       "        \u001b[33mEvent\u001b[39m(\u001b[32m1437856765656L\u001b[39m, \u001b[32m1253013\u001b[39m, \u001b[32m\"view\"\u001b[39m, \u001b[32m203772\u001b[39m, None),\n",
       "        \u001b[33mEvent\u001b[39m(\u001b[32m1437857105399L\u001b[39m, \u001b[32m1253013\u001b[39m, \u001b[32m\"view\"\u001b[39m, \u001b[32m262407\u001b[39m, None)\n",
       "      ),\n",
       "      \u001b[33mStream\u001b[39m(\n",
       "        \u001b[33mEvent\u001b[39m(\u001b[32m1437857105399L\u001b[39m, \u001b[32m1253013\u001b[39m, \u001b[32m\"view\"\u001b[39m, \u001b[32m262407\u001b[39m, None),\n",
       "        \u001b[33mEvent\u001b[39m(\u001b[32m1437857205669L\u001b[39m, \u001b[32m1253013\u001b[39m, \u001b[32m\"view\"\u001b[39m, \u001b[32m214357\u001b[39m, None),\n",
       "\u001b[33m...\u001b[39m\n",
       "\u001b[36mtest\u001b[39m: \u001b[32mSeq\u001b[39m[(\u001b[32mInt\u001b[39m, \u001b[32mSeq\u001b[39m[\u001b[32mSeq\u001b[39m[\u001b[32mEvent\u001b[39m]])] = \u001b[33mArrayBuffer\u001b[39m(\n",
       "  (\n",
       "    \u001b[32m1253013\u001b[39m,\n",
       "    \u001b[33mList\u001b[39m(\n",
       "      \u001b[33mStream\u001b[39m(\n",
       "        \u001b[33mEvent\u001b[39m(\u001b[32m1437856704939L\u001b[39m, \u001b[32m1253013\u001b[39m, \u001b[32m\"view\"\u001b[39m, \u001b[32m214357\u001b[39m, None),\n",
       "        \u001b[33mEvent\u001b[39m(\u001b[32m1437856765656L\u001b[39m, \u001b[32m1253013\u001b[39m, \u001b[32m\"view\"\u001b[39m, \u001b[32m203772\u001b[39m, None),\n",
       "        \u001b[33mEvent\u001b[39m(\u001b[32m1437857105399L\u001b[39m, \u001b[32m1253013\u001b[39m, \u001b[32m\"view\"\u001b[39m, \u001b[32m262407\u001b[39m, None)\n",
       "      ),\n",
       "      \u001b[33mStream\u001b[39m(\n",
       "        \u001b[33mEvent\u001b[39m(\u001b[32m1437857105399L\u001b[39m, \u001b[32m1253013\u001b[39m, \u001b[32m\"view\"\u001b[39m, \u001b[32m262407\u001b[39m, None),\n",
       "        \u001b[33mEvent\u001b[39m(\u001b[32m1437857205669L\u001b[39m, \u001b[32m1253013\u001b[39m, \u001b[32m\"view\"\u001b[39m, \u001b[32m214357\u001b[39m, None),\n",
       "\u001b[33m...\u001b[39m\n",
       "\u001b[36mtrainSessions\u001b[39m: \u001b[32mSeq\u001b[39m[\u001b[32mSeq\u001b[39m[\u001b[32mEvent\u001b[39m]] = \u001b[33mArrayBuffer\u001b[39m(\n",
       "  \u001b[33mStream\u001b[39m(\n",
       "    \u001b[33mEvent\u001b[39m(\u001b[32m1437856704939L\u001b[39m, \u001b[32m1253013\u001b[39m, \u001b[32m\"view\"\u001b[39m, \u001b[32m214357\u001b[39m, None),\n",
       "    \u001b[33mEvent\u001b[39m(\u001b[32m1437856765656L\u001b[39m, \u001b[32m1253013\u001b[39m, \u001b[32m\"view\"\u001b[39m, \u001b[32m203772\u001b[39m, None),\n",
       "    \u001b[33mEvent\u001b[39m(\u001b[32m1437857105399L\u001b[39m, \u001b[32m1253013\u001b[39m, \u001b[32m\"view\"\u001b[39m, \u001b[32m262407\u001b[39m, None)\n",
       "  ),\n",
       "  \u001b[33mStream\u001b[39m(\n",
       "    \u001b[33mEvent\u001b[39m(\u001b[32m1437857105399L\u001b[39m, \u001b[32m1253013\u001b[39m, \u001b[32m\"view\"\u001b[39m, \u001b[32m262407\u001b[39m, None),\n",
       "    \u001b[33mEvent\u001b[39m(\u001b[32m1437857205669L\u001b[39m, \u001b[32m1253013\u001b[39m, \u001b[32m\"view\"\u001b[39m, \u001b[32m214357\u001b[39m, None),\n",
       "    \u001b[33mEvent\u001b[39m(\u001b[32m1437857253731L\u001b[39m, \u001b[32m1253013\u001b[39m, \u001b[32m\"view\"\u001b[39m, \u001b[32m203772\u001b[39m, None)\n",
       "  ),\n",
       "  \u001b[33mStream\u001b[39m(\n",
       "\u001b[33m...\u001b[39m\n",
       "\u001b[36mtestSessions\u001b[39m: \u001b[32mSeq\u001b[39m[\u001b[32mSeq\u001b[39m[\u001b[32mEvent\u001b[39m]] = \u001b[33mArrayBuffer\u001b[39m(\n",
       "  \u001b[33mStream\u001b[39m(\n",
       "    \u001b[33mEvent\u001b[39m(\u001b[32m1437856704939L\u001b[39m, \u001b[32m1253013\u001b[39m, \u001b[32m\"view\"\u001b[39m, \u001b[32m214357\u001b[39m, None),\n",
       "    \u001b[33mEvent\u001b[39m(\u001b[32m1437856765656L\u001b[39m, \u001b[32m1253013\u001b[39m, \u001b[32m\"view\"\u001b[39m, \u001b[32m203772\u001b[39m, None),\n",
       "    \u001b[33mEvent\u001b[39m(\u001b[32m1437857105399L\u001b[39m, \u001b[32m1253013\u001b[39m, \u001b[32m\"view\"\u001b[39m, \u001b[32m262407\u001b[39m, None)\n",
       "  ),\n",
       "  \u001b[33mStream\u001b[39m(\n",
       "    \u001b[33mEvent\u001b[39m(\u001b[32m1437857105399L\u001b[39m, \u001b[32m1253013\u001b[39m, \u001b[32m\"view\"\u001b[39m, \u001b[32m262407\u001b[39m, None),\n",
       "    \u001b[33mEvent\u001b[39m(\u001b[32m1437857205669L\u001b[39m, \u001b[32m1253013\u001b[39m, \u001b[32m\"view\"\u001b[39m, \u001b[32m214357\u001b[39m, None),\n",
       "    \u001b[33mEvent\u001b[39m(\u001b[32m1437857253731L\u001b[39m, \u001b[32m1253013\u001b[39m, \u001b[32m\"view\"\u001b[39m, \u001b[32m203772\u001b[39m, None)\n",
       "  ),\n",
       "  \u001b[33mStream\u001b[39m(\n",
       "\u001b[33m...\u001b[39m\n",
       "\u001b[36mres50_5\u001b[39m: \u001b[32mInt\u001b[39m = \u001b[32m102563\u001b[39m"
      ]
     },
     "execution_count": 51,
     "metadata": {},
     "output_type": "execute_result"
    }
   ],
   "source": [
    "def splitDataSet(sessionizedEvents: Seq[(Int, Seq[Seq[Event]])], testProportion: Double): \n",
    "(Seq[(Int, Seq[Seq[Event]])],Seq[(Int, Seq[Seq[Event]])]) = {\n",
    "    require(testProportion >= 0 && testProportion <= 1.0, \"proportion must be in [0,1]\")\n",
    "    val train = sessionizedEvents.filter{ case (visitorId, visitorSessions) => visitorId % 100 > (1 - testProportion * 100)}\n",
    "    val test = sessionizedEvents.filter{ case (visitorId, visitorSessions) => visitorId % 100 <= testProportion * 100 }\n",
    "    (train, test)\n",
    "} \n",
    "\n",
    "val (train, test) = splitDataSet(sessionizedEvents, 0.2) // 20% for test\n",
    "val trainSessions = train.flatMap{ case(visitorId, visitorSessions) => visitorSessions}\n",
    "val testSessions = test.flatMap{ case(visitorId, visitorSessions) => visitorSessions}\n"
   ]
  },
  {
   "cell_type": "code",
   "execution_count": 52,
   "metadata": {},
   "outputs": [
    {
     "name": "stdout",
     "output_type": "stream",
     "text": [
      "train sessions: 489163\n",
      "test sessions: 102563\n"
     ]
    }
   ],
   "source": [
    "println(\"train sessions: \" + trainSessions.size)\n",
    "println(\"test sessions: \" + testSessions.size)"
   ]
  },
  {
   "cell_type": "markdown",
   "metadata": {},
   "source": [
    "Now recommendations will be generated from the train data. I use a simple strategy: analyse co-occurrence of items in sessions  with one condition: potential recommended item (itemRight) should be clicked after item (itemLeft), for which we are going to recommend something  "
   ]
  },
  {
   "cell_type": "code",
   "execution_count": 53,
   "metadata": {
    "collapsed": true
   },
   "outputs": [
    {
     "data": {
      "text/plain": [
       "defined \u001b[32mclass\u001b[39m \u001b[36mRec\u001b[39m\n",
       "defined \u001b[32mfunction\u001b[39m \u001b[36mitemToItem\u001b[39m"
      ]
     },
     "execution_count": 53,
     "metadata": {},
     "output_type": "execute_result"
    }
   ],
   "source": [
    "case class Rec(itemIdRight: Int, weight: Float) // class to store recommendations to particular itemIdLeft\n",
    "\n",
    "def itemToItem(sessions: Seq[Seq[Event]], leftEvent: String, rightEvent: String, \n",
    "               minCount: Int = 2, minimumRecs: Int = 3): Map[Int,Seq[Rec]] = {\n",
    "    \n",
    "    val itemToItemCounts: Seq[(Int, Int, Int)] = sessions\n",
    "     .flatMap{ eventSession => \n",
    "         for { left <- eventSession \n",
    "               right <- eventSession\n",
    "               if left.event == leftEvent\n",
    "               if right.event == rightEvent\n",
    "               if left.timeStamp < right.timeStamp  \n",
    "            } yield ((left.itemId, right.itemId), 1)} \n",
    "     .groupBy(_._1)\n",
    "     .map{ case((itemIdLeft, itemIdRight), counts) => (itemIdLeft, itemIdRight, counts.map(_._2).sum)} \n",
    "     .toSeq\n",
    "    \n",
    "    itemToItemCounts\n",
    "     .filter{ case(itemIdLeft, itemIdRight, counts) => counts >= minCount }    \n",
    "     .groupBy{ case(itemIdLeft, itemIdRight, counts) => itemIdLeft }\n",
    "     .filter{ case (itemIdLeft, rights) => rights.size >= minimumRecs }\n",
    "     .map{ case (itemIdLeft, rights) => \n",
    "         val totalCount = rights.map{ case(itemIdLeft, itemIdRight, counts) => counts }.sum\n",
    "         val recs = rights.map{ case(itemIdLeft, itemIdRight, counts) => Rec(itemIdRight, counts.toFloat / totalCount)}\n",
    "          .sortBy(_.weight) //sorting to get top recs easier \n",
    "          .reverse \n",
    "         itemIdLeft -> recs}\n",
    "}"
   ]
  },
  {
   "cell_type": "code",
   "execution_count": 54,
   "metadata": {
    "scrolled": true
   },
   "outputs": [
    {
     "data": {
      "text/plain": [
       "\u001b[36mitemToItemRecs\u001b[39m: \u001b[32mMap\u001b[39m[\u001b[32mInt\u001b[39m, \u001b[32mSeq\u001b[39m[\u001b[32mRec\u001b[39m]] = \u001b[33mMap\u001b[39m(\n",
       "  \u001b[32m109603\u001b[39m -> \u001b[33mList\u001b[39m(\n",
       "    \u001b[33mRec\u001b[39m(\u001b[32m421284\u001b[39m, \u001b[32m0.42857143F\u001b[39m),\n",
       "    \u001b[33mRec\u001b[39m(\u001b[32m356981\u001b[39m, \u001b[32m0.2857143F\u001b[39m),\n",
       "    \u001b[33mRec\u001b[39m(\u001b[32m172699\u001b[39m, \u001b[32m0.2857143F\u001b[39m)\n",
       "  ),\n",
       "  \u001b[32m360487\u001b[39m -> \u001b[33mList\u001b[39m(\n",
       "    \u001b[33mRec\u001b[39m(\u001b[32m257040\u001b[39m, \u001b[32m0.09565217F\u001b[39m),\n",
       "    \u001b[33mRec\u001b[39m(\u001b[32m309778\u001b[39m, \u001b[32m0.09565217F\u001b[39m),\n",
       "    \u001b[33mRec\u001b[39m(\u001b[32m135900\u001b[39m, \u001b[32m0.073913045F\u001b[39m),\n",
       "    \u001b[33mRec\u001b[39m(\u001b[32m354555\u001b[39m, \u001b[32m0.052173913F\u001b[39m),\n",
       "    \u001b[33mRec\u001b[39m(\u001b[32m414410\u001b[39m, \u001b[32m0.047826085F\u001b[39m),\n",
       "\u001b[33m...\u001b[39m\n",
       "\u001b[36mres53_1\u001b[39m: \u001b[32mInt\u001b[39m = \u001b[32m12930\u001b[39m"
      ]
     },
     "execution_count": 54,
     "metadata": {},
     "output_type": "execute_result"
    }
   ],
   "source": [
    "val itemToItemRecs = itemToItem(trainSessions, \"view\", \"view\")\n",
    "itemToItemRecs.toSeq.size"
   ]
  },
  {
   "cell_type": "markdown",
   "metadata": {},
   "source": [
    "Ok, we have train and test datasets, recommendations based on the first one. I'm going to eavluate them. My key metrics are Recall and Empty recommendations. Recall = get top n recommendation (top@n) for each click (view events) and count a hit if the next click (itemId) are in top@n recommandations. Empty recs = percent of empty recommendations for particular itemId in session."
   ]
  },
  {
   "cell_type": "code",
   "execution_count": 55,
   "metadata": {
    "collapsed": true
   },
   "outputs": [
    {
     "data": {
      "text/plain": [
       "defined \u001b[32mclass\u001b[39m \u001b[36mEvaluate\u001b[39m\n",
       "defined \u001b[32mfunction\u001b[39m \u001b[36mevaluateNextView\u001b[39m"
      ]
     },
     "execution_count": 55,
     "metadata": {},
     "output_type": "execute_result"
    }
   ],
   "source": [
    "case class Evaluate(hits: Int, emptyRecs: Int, total: Int){\n",
    "    def +(that: Evaluate): Evaluate = Evaluate(this.hits + that.hits, emptyRecs + that.emptyRecs, total + that.total)\n",
    "    override def toString = \"Recall: %f  Empty recs: %f\".format(hits.toDouble / total.toDouble, emptyRecs.toDouble / total.toDouble)\n",
    "}\n",
    "\n",
    "def evaluateNextView(sessions: Seq[Seq[Event]],recs: Map[Int, Seq[Rec]], top: Int = 3): Evaluate = {\n",
    "    sessions.map( _.filter(_.event == \"view\"))\n",
    "     .filter(_.size > 1)\n",
    "     .map(_.map(_.itemId))\n",
    "     .flatMap(_.sliding(2))\n",
    "     .map{ case Seq(currentItemId, toPredictItemId) => \n",
    "            val recsForCurrentItemId: Option[Seq[Rec]] = recs.get(currentItemId).map(_.take(top)).map(_.filter(_.itemIdRight == toPredictItemId))\n",
    "         recsForCurrentItemId match {\n",
    "             case Some(Seq(x)) => Evaluate(1, 0, 1) // hit\n",
    "             case Some(Seq()) => Evaluate(0, 0, 1) //missed recs\n",
    "             case None => Evaluate(0, 1, 1) //empty recs\n",
    "         }}\n",
    "    .reduce(_+_)\n",
    "}"
   ]
  },
  {
   "cell_type": "code",
   "execution_count": 56,
   "metadata": {},
   "outputs": [
    {
     "name": "stdout",
     "output_type": "stream",
     "text": [
      "Evaluation for the train dataset Recall: 0.194188  Empty recs: 0.418063\n",
      "Evaluation for the test dataset Recall: 0.196900  Empty recs: 0.417510\n"
     ]
    }
   ],
   "source": [
    "println(\"Evaluation for the train dataset \" + evaluateNextView(trainSessions,itemToItemRecs))\n",
    "println(\"Evaluation for the test dataset \" + evaluateNextView(testSessions,itemToItemRecs))"
   ]
  },
  {
   "cell_type": "code",
   "execution_count": null,
   "metadata": {
    "collapsed": true
   },
   "outputs": [],
   "source": []
  }
 ],
 "metadata": {
  "kernelspec": {
   "display_name": "Scala (develop)",
   "language": "scala",
   "name": "scala-develop"
  },
  "language_info": {
   "codemirror_mode": "text/x-scala",
   "file_extension": ".scala",
   "mimetype": "text/x-scala",
   "name": "scala211",
   "nbconvert_exporter": "script",
   "pygments_lexer": "scala",
   "version": "2.11.11"
  }
 },
 "nbformat": 4,
 "nbformat_minor": 2
}
